{
 "cells": [
  {
   "cell_type": "code",
   "execution_count": null,
   "metadata": {},
   "outputs": [],
   "source": [
    "from sklearn.model_selection import train_test_split\n",
    "import random\n",
    "import shutil\n",
    "import os\n",
    "import torch\n",
    "from PIL import Image\n",
    "import matplotlib.pyplot as plt\n",
    "import torch\n",
    "import torchvision.transforms as T\n",
    "import numpy as np"
   ]
  },
  {
   "cell_type": "code",
   "execution_count": null,
   "metadata": {},
   "outputs": [],
   "source": [
    "%ls"
   ]
  },
  {
   "cell_type": "code",
   "execution_count": null,
   "metadata": {},
   "outputs": [],
   "source": [
    "%cd /cluster/home/sondrmka/"
   ]
  },
  {
   "cell_type": "code",
   "execution_count": null,
   "metadata": {},
   "outputs": [],
   "source": [
    "#%cd /cluster/projects/vc/courses/TDT17/2022/open/RDD2022 (could load data from here)"
   ]
  },
  {
   "cell_type": "code",
   "execution_count": null,
   "metadata": {},
   "outputs": [],
   "source": [
    "# os.makedirs('./.kaggle')\n",
    "os.listdir()"
   ]
  },
  {
   "cell_type": "code",
   "execution_count": null,
   "metadata": {},
   "outputs": [],
   "source": [
    "%cd /cluster/work/sondrmka/TDT17\n",
    "\n",
    "%ls"
   ]
  },
  {
   "cell_type": "code",
   "execution_count": null,
   "metadata": {},
   "outputs": [],
   "source": [
    "# os.makedirs('./input')\n",
    "# os.makedirs('./output')"
   ]
  },
  {
   "cell_type": "code",
   "execution_count": null,
   "metadata": {},
   "outputs": [],
   "source": [
    "%pip install python-dotenv --user\n",
    "%pip install kaggle --user"
   ]
  },
  {
   "cell_type": "code",
   "execution_count": null,
   "metadata": {},
   "outputs": [],
   "source": [
    "# shutil.move(\"kaggle.json\", \"/cluster/home/sondrmka/.kaggle\")\n",
    "%ls"
   ]
  },
  {
   "cell_type": "code",
   "execution_count": null,
   "metadata": {},
   "outputs": [],
   "source": [
    "from dotenv import load_dotenv, find_dotenv\n",
    "\n",
    "load_dotenv(find_dotenv(), override=True)\n",
    "\n",
    "from kaggle.api.kaggle_api_extended import KaggleApi\n",
    "\n",
    "api = KaggleApi()\n",
    "api.authenticate()"
   ]
  },
  {
   "cell_type": "code",
   "execution_count": null,
   "metadata": {},
   "outputs": [],
   "source": [
    "#!chmod 600 /cluster/home/sondrmka/.kaggle/kaggle.json"
   ]
  },
  {
   "cell_type": "code",
   "execution_count": null,
   "metadata": {},
   "outputs": [],
   "source": [
    "dataset = \"rdd2022-norway-yolo\"\n",
    "\n",
    "# Download dataset\n",
    "api.dataset_download_files(f\"paalmorholmen/{dataset}\", path=\"./input\", quiet=False)"
   ]
  },
  {
   "cell_type": "code",
   "execution_count": null,
   "metadata": {},
   "outputs": [],
   "source": [
    "import zipfile\n",
    "\n",
    "with zipfile.ZipFile(f\"./input/{dataset}.zip\") as file:\n",
    "    file.extractall(\"./data\")\n",
    "\n",
    "os.remove(f\"./input/{dataset}.zip\")"
   ]
  },
  {
   "cell_type": "code",
   "execution_count": null,
   "metadata": {},
   "outputs": [],
   "source": [
    "%cd /cluster/work/sondrmka/TDT17/output"
   ]
  },
  {
   "cell_type": "code",
   "execution_count": null,
   "metadata": {},
   "outputs": [],
   "source": [
    "# os.makedirs('./images/train')\n",
    "# os.makedirs('./images/val')\n",
    "# os.makedirs('./images/test')\n",
    "# os.makedirs('./labels/train')\n",
    "# os.makedirs('./labels/val')\n",
    "# os.makedirs('./labels/test')"
   ]
  },
  {
   "cell_type": "code",
   "execution_count": null,
   "metadata": {},
   "outputs": [],
   "source": [
    "%cd /cluster/work/sondrmka/TDT17/data"
   ]
  },
  {
   "cell_type": "code",
   "execution_count": null,
   "metadata": {},
   "outputs": [],
   "source": [
    "# Read images and labels\n",
    "images = [os.path.join(\"./images\", x) for x in os.listdir(\"./images\")]\n",
    "labels = [\n",
    "    os.path.join(\"./labels\", x) for x in os.listdir(\"./labels\") if x[-3:] == \"txt\"\n",
    "]\n",
    "\n",
    "images.sort()\n",
    "labels.sort()\n",
    "\n",
    "annotated_img_ids = [img[7:-4] for img in labels]\n",
    "filtered_images = labels.copy()\n",
    "\n",
    "filtered_images = [\n",
    "    img.replace(\"txt\", \"jpg\").replace(\"labels\", \"images\") for img in filtered_images\n",
    "]\n",
    "\n",
    "# Split the dataset into train-valid-test splits\n",
    "train_images, val_images, train_labels, val_labels = train_test_split(\n",
    "    filtered_images, labels, test_size=0.2, random_state=1\n",
    ")\n",
    "\n",
    "# using all images for training\n",
    "# val_images, test_images, val_labels, test_labels = train_test_split(\n",
    "# val_images, val_labels, test_size=0.5, random_state=1\n",
    "# )\n",
    "\n",
    "print(len(train_images))\n",
    "print(len(val_images))"
   ]
  },
  {
   "cell_type": "code",
   "execution_count": null,
   "metadata": {},
   "outputs": [],
   "source": [
    "# Utility function to move images\n",
    "def move_files_to_folder(list_of_files, destination_folder):\n",
    "    for f in list_of_files:\n",
    "        try:\n",
    "            shutil.move(f, destination_folder)\n",
    "        except:\n",
    "            # print(f)\n",
    "            pass\n",
    "            # assert False\n",
    "\n",
    "\n",
    "# Move the splits into their folders\n",
    "move_files_to_folder(train_images, \"../output/images/train\")\n",
    "move_files_to_folder(val_images, \"../output/images/val/\")\n",
    "# move_files_to_folder(test_images, \"../output/images/test/\")\n",
    "move_files_to_folder(train_labels, \"../output/labels/train/\")\n",
    "move_files_to_folder(val_labels, \"../output/labels/val/\")\n",
    "# move_files_to_folder(test_labels, \"../output/labels/test/\")"
   ]
  },
  {
   "cell_type": "code",
   "execution_count": null,
   "metadata": {},
   "outputs": [],
   "source": [
    "%cd /cluster/work/sondrmka/TDT17/"
   ]
  },
  {
   "cell_type": "code",
   "execution_count": null,
   "metadata": {},
   "outputs": [],
   "source": [
    "!git clone https://github.com/WongKinYiu/yolov7.git ./yolov7"
   ]
  },
  {
   "cell_type": "code",
   "execution_count": null,
   "metadata": {},
   "outputs": [],
   "source": [
    "%cd /cluster/work/sondrmka/TDT17/yolov7/"
   ]
  },
  {
   "cell_type": "code",
   "execution_count": null,
   "metadata": {},
   "outputs": [],
   "source": [
    "!wget https://github.com/WongKinYiu/yolov7/releases/download/v0.1/yolov7x_training.pt"
   ]
  },
  {
   "cell_type": "code",
   "execution_count": null,
   "metadata": {},
   "outputs": [],
   "source": [
    "!wget https://github.com/WongKinYiu/yolov7/releases/download/v0.1/yolov7_training.pt"
   ]
  },
  {
   "cell_type": "code",
   "execution_count": null,
   "metadata": {},
   "outputs": [],
   "source": [
    "!wget https://github.com/WongKinYiu/yolov7/releases/download/v0.1/yolov7-w6_training.pt"
   ]
  },
  {
   "cell_type": "code",
   "execution_count": null,
   "metadata": {},
   "outputs": [],
   "source": [
    "%cd /cluster/work/sondrmka/TDT17/yolov7/data"
   ]
  },
  {
   "cell_type": "code",
   "execution_count": null,
   "metadata": {},
   "outputs": [],
   "source": [
    "train_path = \"/cluster/work/sondrmka/TDT17/output/images/train/\"\n",
    "val_path = \"/cluster/work/sondrmka/TDT17/output/images/val/\"\n",
    "\n",
    "# number of classes\n",
    "nc = 4\n",
    "\n",
    "# class names\n",
    "names = [\"D00\", \"D10\", \"D40\", \"D20\"]"
   ]
  },
  {
   "cell_type": "code",
   "execution_count": null,
   "metadata": {},
   "outputs": [],
   "source": [
    "import yaml\n",
    "\n",
    "with open(\"rdd.yaml\", \"w\") as file:\n",
    "    yaml.dump(\n",
    "        {\n",
    "            \"train\": train_path,\n",
    "            \"val\": val_path,\n",
    "            \"nc\": nc,\n",
    "            \"names\": [f\"{name}\" for name in names],\n",
    "        },\n",
    "        stream=file,\n",
    "        default_flow_style=None,\n",
    "    )"
   ]
  },
  {
   "cell_type": "code",
   "execution_count": null,
   "metadata": {},
   "outputs": [],
   "source": [
    "%cd /cluster/work/sondrmka/TDT17/yolov7/"
   ]
  },
  {
   "cell_type": "code",
   "execution_count": null,
   "metadata": {},
   "outputs": [],
   "source": [
    "%cd /cluster/work/sondrmka/TDT17/output/images/train"
   ]
  },
  {
   "cell_type": "code",
   "execution_count": null,
   "metadata": {},
   "outputs": [],
   "source": [
    "training_images = os.listdir()\n",
    "orig_img = Image.open(training_images[228])\n",
    "plt.imshow(orig_img)\n",
    "plt.show()"
   ]
  },
  {
   "cell_type": "code",
   "execution_count": null,
   "metadata": {},
   "outputs": [],
   "source": [
    "new_img = ...\n",
    "plt.imshow(new_img)\n",
    "plt.show()"
   ]
  },
  {
   "cell_type": "code",
   "execution_count": null,
   "metadata": {},
   "outputs": [],
   "source": [
    "def plot(imgs, with_orig=True, row_title=None, **imshow_kwargs):\n",
    "    if not isinstance(imgs[0], list):\n",
    "        # Make a 2d grid even if there's just 1 row\n",
    "        imgs = [imgs]\n",
    "\n",
    "    num_rows = len(imgs)\n",
    "    num_cols = len(imgs[0]) + with_orig\n",
    "    fig, axs = plt.subplots(nrows=num_rows, ncols=num_cols, squeeze=False)\n",
    "    for row_idx, row in enumerate(imgs):\n",
    "        row = [orig_img] + row if with_orig else row\n",
    "        for col_idx, img in enumerate(row):\n",
    "            ax = axs[row_idx, col_idx]\n",
    "            ax.imshow(np.asarray(img), **imshow_kwargs)\n",
    "            ax.set(xticklabels=[], yticklabels=[], xticks=[], yticks=[])\n",
    "\n",
    "    if with_orig:\n",
    "        axs[0, 0].set(title=\"Original image\")\n",
    "        axs[0, 0].title.set_size(8)\n",
    "    if row_title is not None:\n",
    "        for row_idx in range(num_rows):\n",
    "            axs[row_idx, 0].set(ylabel=row_title[row_idx])\n",
    "\n",
    "    plt.tight_layout()"
   ]
  },
  {
   "cell_type": "code",
   "execution_count": null,
   "metadata": {},
   "outputs": [],
   "source": [
    "center_crops = [\n",
    "    T.CenterCrop(size=size)(orig_img) for size in (30, 50, 100, orig_img.size)\n",
    "]\n",
    "\n",
    "plot(center_crops)\n",
    "plt.show()"
   ]
  },
  {
   "cell_type": "code",
   "execution_count": null,
   "metadata": {},
   "outputs": [],
   "source": [
    "def change_annotation_index(detection_file, output_path, label_path):\n",
    "    classes = [\"D00\", \"D10\", \"D40\", \"D20\"]\n",
    "    new_annotation_index = {\"0\": \"1\", \"1\": \"2\", \"2\": \"4\", \"3\": \"3\"}\n",
    "    new_detections = []\n",
    "\n",
    "    with open(label_path + detection_file, \"r\") as file:\n",
    "        Lines = file.readlines()\n",
    "        for line in Lines:\n",
    "            new_string = new_annotation_index.get(line[0]) + \" \" + line[1:].strip()\n",
    "            new_detections.append(new_string)\n",
    "\n",
    "    detection_file = detection_file.replace(\".txt\", \".jpg\")\n",
    "    # print(new_detections)\n",
    "    print(detection_file)\n",
    "    print(output_path)\n",
    "    with open(output_path + detection_file, \"w\") as file:\n",
    "        for line in new_detections:\n",
    "            file.write(line)"
   ]
  },
  {
   "cell_type": "code",
   "execution_count": null,
   "metadata": {},
   "outputs": [],
   "source": [
    "def export_new_labels_to_output(run, output_path):\n",
    "    label_path = (\n",
    "        \"/cluster/work/sondrmka/TDT17/yolov7/runs/detect/\" + str(run) + \"/labels/\"\n",
    "    )\n",
    "    label_files = os.listdir(label_path)\n",
    "\n",
    "    path = output_path + run + \"/labels/\"\n",
    "\n",
    "    for file in label_files:\n",
    "        change_annotation_index(file, path, label_path)"
   ]
  },
  {
   "cell_type": "code",
   "execution_count": null,
   "metadata": {},
   "outputs": [],
   "source": [
    "export_new_labels_to_output(\"exp3\", \"/cluster/work/sondrmka/TDT17/output/runs/\")"
   ]
  },
  {
   "cell_type": "code",
   "execution_count": null,
   "metadata": {},
   "outputs": [],
   "source": []
  }
 ],
 "metadata": {
  "kernelspec": {
   "display_name": "Python 3",
   "language": "python",
   "name": "python3"
  },
  "language_info": {
   "codemirror_mode": {
    "name": "ipython",
    "version": 3
   },
   "file_extension": ".py",
   "mimetype": "text/x-python",
   "name": "python",
   "nbconvert_exporter": "python",
   "pygments_lexer": "ipython3",
   "version": "3.8.3"
  }
 },
 "nbformat": 4,
 "nbformat_minor": 4
}
