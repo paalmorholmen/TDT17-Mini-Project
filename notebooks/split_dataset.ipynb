{
 "cells": [
  {
   "cell_type": "markdown",
   "metadata": {},
   "source": [
    "# Split dataset"
   ]
  },
  {
   "cell_type": "code",
   "execution_count": null,
   "metadata": {},
   "outputs": [],
   "source": [
    "%cd ../yolov7"
   ]
  },
  {
   "cell_type": "code",
   "execution_count": null,
   "metadata": {},
   "outputs": [],
   "source": [
    "import os\n",
    "from sklearn.model_selection import train_test_split\n",
    "import random\n",
    "import shutil"
   ]
  },
  {
   "cell_type": "code",
   "execution_count": null,
   "metadata": {},
   "outputs": [],
   "source": [
    "# Read images and labels\n",
    "images = [os.path.join(\"../data2/images\", x) for x in os.listdir(\"../data2/images\")]\n",
    "labels = [\n",
    "    os.path.join(\"../data2/labels\", x)\n",
    "    for x in os.listdir(\"../data2/labels\")\n",
    "    if x[-3:] == \"txt\"\n",
    "]\n",
    "\n",
    "images.sort()\n",
    "labels.sort()\n",
    "\n",
    "annotated_img_ids = [img[7:-4] for img in labels]\n",
    "filtered_images = labels.copy()\n",
    "\n",
    "filtered_images = [\n",
    "    img.replace(\"txt\", \"jpg\").replace(\"labels\", \"images\") for img in filtered_images\n",
    "]\n",
    "\n",
    "filtered_images = filtered_images[:50]\n",
    "labels = labels[:50]\n",
    "\n",
    "# Split the dataset into train-valid-test splits\n",
    "train_images, val_images, train_labels, val_labels = train_test_split(\n",
    "    filtered_images, labels, test_size=0.2, random_state=1\n",
    ")\n",
    "val_images, test_images, val_labels, test_labels = train_test_split(\n",
    "    val_images, val_labels, test_size=0.5, random_state=1\n",
    ")"
   ]
  },
  {
   "cell_type": "code",
   "execution_count": null,
   "metadata": {},
   "outputs": [],
   "source": [
    "!mkdir ../data3/images/train ../data3/images/val ../data3/images/test ../data3/labels/train ../data3/labels/val ../data3/labels/test"
   ]
  },
  {
   "cell_type": "code",
   "execution_count": null,
   "metadata": {},
   "outputs": [],
   "source": [
    "# Utility function to move images\n",
    "def move_files_to_folder(list_of_files, destination_folder):\n",
    "    for f in list_of_files:\n",
    "        try:\n",
    "            shutil.move(f, destination_folder)\n",
    "        except:\n",
    "            print(f)\n",
    "            assert False\n",
    "\n",
    "\n",
    "# Move the splits into their folders\n",
    "move_files_to_folder(train_images, \"../data3/images/train\")\n",
    "move_files_to_folder(val_images, \"../data3/images/val/\")\n",
    "move_files_to_folder(test_images, \"../data3/images/test/\")\n",
    "move_files_to_folder(train_labels, \"../data3/labels/train/\")\n",
    "move_files_to_folder(val_labels, \"../data3/labels/val/\")\n",
    "move_files_to_folder(test_labels, \"../data3/labels/test/\")"
   ]
  }
 ],
 "metadata": {
  "kernelspec": {
   "display_name": "Python 3.10.6 ('TDT17')",
   "language": "python",
   "name": "python3"
  },
  "language_info": {
   "codemirror_mode": {
    "name": "ipython",
    "version": 3
   },
   "file_extension": ".py",
   "mimetype": "text/x-python",
   "name": "python",
   "nbconvert_exporter": "python",
   "pygments_lexer": "ipython3",
   "version": "3.10.6"
  },
  "vscode": {
   "interpreter": {
    "hash": "8386011040f69c62970cdc3024b9b8166e719d7a58b5617de0691bb2335b9cbe"
   }
  }
 },
 "nbformat": 4,
 "nbformat_minor": 2
}
