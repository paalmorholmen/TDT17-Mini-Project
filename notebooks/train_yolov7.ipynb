{
 "cells": [
  {
   "cell_type": "markdown",
   "metadata": {},
   "source": [
    "# Train YOLOv7\n",
    "Run `download_dataset.ipynb` and `download_yolov7.ipynb` first."
   ]
  },
  {
   "cell_type": "code",
   "execution_count": null,
   "metadata": {},
   "outputs": [],
   "source": [
    "%cd ../yolov7"
   ]
  },
  {
   "cell_type": "code",
   "execution_count": null,
   "metadata": {},
   "outputs": [],
   "source": [
    "!python train.py --workers 1 --batch-size 8 --data data/rdd.yaml --img 3650 2044 --cfg cfg/training/yolov7.yaml --name yolov7_rdd --hyp data/hyp.scratch.custom.yaml --epochs 50 --device cpu"
   ]
  }
 ],
 "metadata": {
  "kernelspec": {
   "display_name": "Python 3.10.6 ('TDT17')",
   "language": "python",
   "name": "python3"
  },
  "language_info": {
   "codemirror_mode": {
    "name": "ipython",
    "version": 3
   },
   "file_extension": ".py",
   "mimetype": "text/x-python",
   "name": "python",
   "nbconvert_exporter": "python",
   "pygments_lexer": "ipython3",
   "version": "3.10.6"
  },
  "vscode": {
   "interpreter": {
    "hash": "8386011040f69c62970cdc3024b9b8166e719d7a58b5617de0691bb2335b9cbe"
   }
  }
 },
 "nbformat": 4,
 "nbformat_minor": 2
}
